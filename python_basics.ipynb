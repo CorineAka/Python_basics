{
  "nbformat": 4,
  "nbformat_minor": 0,
  "metadata": {
    "kernelspec": {
      "display_name": "Python 3",
      "language": "python",
      "name": "python3"
    },
    "language_info": {
      "codemirror_mode": {
        "name": "ipython",
        "version": 3
      },
      "file_extension": ".py",
      "mimetype": "text/x-python",
      "name": "python",
      "nbconvert_exporter": "python",
      "pygments_lexer": "ipython3",
      "version": "3.7.6"
    },
    "colab": {
      "name": "python_basics.ipynb",
      "provenance": [],
      "collapsed_sections": [],
      "include_colab_link": true
    }
  },
  "cells": [
    {
      "cell_type": "markdown",
      "metadata": {
        "id": "view-in-github",
        "colab_type": "text"
      },
      "source": [
        "<a href=\"https://colab.research.google.com/github/maka225/Python_basics/blob/main/python_basics.ipynb\" target=\"_parent\"><img src=\"https://colab.research.google.com/assets/colab-badge.svg\" alt=\"Open In Colab\"/></a>"
      ]
    },
    {
      "cell_type": "markdown",
      "metadata": {
        "id": "26b5S1t2MC14"
      },
      "source": [
        "# Exo 1 : Devine le nombre"
      ]
    },
    {
      "cell_type": "markdown",
      "metadata": {
        "id": "c8UN0WyhMC2b"
      },
      "source": [
        "Ecris une fonction nommée `devinette` qui ne prend aucun argument. Quand on l'exécute, elle choisit un nombre aléatoire en 0 et 100 (inclus)et demande à l'utilisateur de deviner ce nombre.A chaque fois que l'utilisateur entre un nombre, le programme affiche l'une de ces phrases : \n",
        "* Trop grand\n",
        "* Trop petit\n",
        "* Exact\n",
        "\n",
        "Si l'utilisateur a choisit correctement, le programme s'arrete. Sinon, le programme demande encore à l'utilisateur de rentrer un nouveau nombre jusqu'à ce qu'il trouve la bonne solution et s'arrête.\n",
        "\n",
        "> Aide : Cherche le module `random` de Python pour générer un nombre aléatoirement.\n"
      ]
    },
    {
      "cell_type": "code",
      "metadata": {
        "id": "5xlqpW2PMgiU"
      },
      "source": [
        "import random\n",
        "def devinette():\n",
        "  nombre = random.randint(0,100)\n",
        "  while True:\n",
        "    reponse = int(input(\"devine le nombre que je choisis entre 0 et 100:\"))\n",
        "    if reponse > nombre:\n",
        "        print(\"trop grand, essayer de nouveau\")\n",
        "    elif reponse < nombre :\n",
        "        print(\"trop petit, essayer de nouveau\")\n",
        "    if reponse == nombre :\n",
        "      print(\"exact\") \n",
        "      break\n",
        "    "
      ],
      "execution_count": null,
      "outputs": []
    },
    {
      "cell_type": "code",
      "metadata": {
        "colab": {
          "base_uri": "https://localhost:8080/"
        },
        "id": "19iu-zUnR5J6",
        "outputId": "14273b70-d87d-4349-c22c-bd7fedcbada9"
      },
      "source": [
        "devinette()"
      ],
      "execution_count": null,
      "outputs": [
        {
          "output_type": "stream",
          "text": [
            "devine le nombre que je choisis entre 0 et 100:50\n",
            "trop grand, essayer de nouveau\n",
            "devine le nombre que je choisis entre 0 et 100:45\n",
            "trop grand, essayer de nouveau\n",
            "devine le nombre que je choisis entre 0 et 100:20\n",
            "trop grand, essayer de nouveau\n",
            "devine le nombre que je choisis entre 0 et 100:10\n",
            "trop grand, essayer de nouveau\n",
            "devine le nombre que je choisis entre 0 et 100:5\n",
            "trop petit, essayer de nouveau\n",
            "devine le nombre que je choisis entre 0 et 100:7\n",
            "trop petit, essayer de nouveau\n",
            "devine le nombre que je choisis entre 0 et 100:9\n",
            "exact\n"
          ],
          "name": "stdout"
        }
      ]
    },
    {
      "cell_type": "markdown",
      "metadata": {
        "id": "5Bi-lc7IMC2f"
      },
      "source": [
        "# Exo 2: Devine le nombre: Niveau 2"
      ]
    },
    {
      "cell_type": "markdown",
      "metadata": {
        "id": "hULnBhmtMC2g"
      },
      "source": [
        "Reprend ton code pour le programme précédent. Modifie le pour donner seulement 3 chances à l'utilisateur pour deviner le nombre aléatoire choisit. Après 3 tentatives echouées, le programme s'arrête et affiche à l'utilisateur qu'il a épuisé ses chances."
      ]
    },
    {
      "cell_type": "code",
      "metadata": {
        "id": "401s3PlMndm8"
      },
      "source": [
        "import random\n",
        "def devinette_niveau_2():\n",
        "  nombre = random.randint(0,100)\n",
        "  chances = 3\n",
        "  while chances > 0:\n",
        "    reponse = int(input(\"devine le nombre que je choisis:\"))\n",
        "    if reponse > nombre:\n",
        "        print(\"trop grand,\",f'Attention! il vous reste {chances-1} chances ')\n",
        "    elif reponse < nombre :\n",
        "        print(\"trop petit,\", f'Attention! il vous reste {chances-1} chances')\n",
        "    if reponse == nombre :\n",
        "      print(\"exact\") \n",
        "      break\n",
        "    chances = chances - 1"
      ],
      "execution_count": null,
      "outputs": []
    },
    {
      "cell_type": "code",
      "metadata": {
        "colab": {
          "base_uri": "https://localhost:8080/"
        },
        "id": "ICvXqjfcqZgP",
        "outputId": "acbb2949-c08e-4188-93f1-fa6575c926a5"
      },
      "source": [
        "devinette_niveau_2()"
      ],
      "execution_count": null,
      "outputs": [
        {
          "output_type": "stream",
          "text": [
            "devine le nombre que je choisis:50\n",
            "trop petit, Attention! il vous reste 2 chances\n",
            "devine le nombre que je choisis:80\n",
            "trop grand, Attention! il vous reste 1 chances \n",
            "devine le nombre que je choisis:60\n",
            "trop grand, Attention! il vous reste 0 chances \n"
          ],
          "name": "stdout"
        }
      ]
    },
    {
      "cell_type": "markdown",
      "metadata": {
        "id": "uDapam26MC2i"
      },
      "source": [
        "# Exo 3 : La fonction sum"
      ]
    },
    {
      "cell_type": "markdown",
      "metadata": {
        "id": "lm4cmqwkMC2j"
      },
      "source": [
        "En Python, la fonction sum te permet de faire la somme des nombres d'une liste. Par exemple:"
      ]
    },
    {
      "cell_type": "code",
      "metadata": {
        "id": "Wu4QZY51MC2n",
        "outputId": "7dcef788-f927-44b9-edbf-3a466e5f7a71"
      },
      "source": [
        "nombres = [5,2,6,8,9,4]\n",
        "sum(nombres)"
      ],
      "execution_count": null,
      "outputs": [
        {
          "output_type": "execute_result",
          "data": {
            "text/plain": [
              "34"
            ]
          },
          "metadata": {
            "tags": []
          },
          "execution_count": 1
        }
      ]
    },
    {
      "cell_type": "markdown",
      "metadata": {
        "id": "Alea1oN-MC2s"
      },
      "source": [
        "Dans cet exercice, nous allons réecrire cette fonction mais nous la nommerons `somme`. La fonction somme prend en entrée une liste de nombres et renvoie la somme de ces nombres. Ici, vous n'avez pas le droit d'utiliser la fonction `sum` de Python. Le but de cet exercice est d'apprendre à implémenter une fonction qui existe déjà et gagner en confiance sur nos capacités à faire des choses que d'autres programmeurs plus expérimentés ont déjà fait."
      ]
    },
    {
      "cell_type": "code",
      "metadata": {
        "id": "DV9P6y6XtH4l"
      },
      "source": [
        "def somme(liste):\n",
        "  somme = 0\n",
        "  for i in liste:\n",
        "    somme += i\n",
        "  return somme"
      ],
      "execution_count": null,
      "outputs": []
    },
    {
      "cell_type": "code",
      "metadata": {
        "id": "HMBsp2TCvx7h"
      },
      "source": [
        "listes = [90,5,3,15]"
      ],
      "execution_count": null,
      "outputs": []
    },
    {
      "cell_type": "code",
      "metadata": {
        "id": "owoucolAAtEu"
      },
      "source": [
        "a = [800,5,66]"
      ],
      "execution_count": null,
      "outputs": []
    },
    {
      "cell_type": "code",
      "metadata": {
        "colab": {
          "base_uri": "https://localhost:8080/"
        },
        "id": "zkla-8tgwCr_",
        "outputId": "fa286cf8-85f3-4cec-f7be-12187218096d"
      },
      "source": [
        "somme(listes)"
      ],
      "execution_count": null,
      "outputs": [
        {
          "output_type": "execute_result",
          "data": {
            "text/plain": [
              "113"
            ]
          },
          "metadata": {
            "tags": []
          },
          "execution_count": 5
        }
      ]
    },
    {
      "cell_type": "code",
      "metadata": {
        "colab": {
          "base_uri": "https://localhost:8080/"
        },
        "id": "lmuSVySMAzoE",
        "outputId": "0a0c641d-8560-43fd-8261-d36aa5e8026a"
      },
      "source": [
        "somme(a)"
      ],
      "execution_count": null,
      "outputs": [
        {
          "output_type": "execute_result",
          "data": {
            "text/plain": [
              "871"
            ]
          },
          "metadata": {
            "tags": []
          },
          "execution_count": 7
        }
      ]
    },
    {
      "cell_type": "markdown",
      "metadata": {
        "id": "FLJUAVrgMC2v"
      },
      "source": [
        "# Exo 4 : Adresse email de nos employées"
      ]
    },
    {
      "cell_type": "markdown",
      "metadata": {
        "id": "BOX4y8KPMC2w"
      },
      "source": [
        "Vous êtes chargé d'octroyer les emails des nouveaux employés de votre entreprise. Vous travaillez chez PythonBoss.\n",
        "L'adresse email de vos employés est sous le format `prenom_nom@pythonboss.com`. Vous souhaitez écrire un programme pour automatiser cela. La programme demande à un utilisateur son prenom, puis son nom et affiche son adresse email. Par exemple Kevin Degila aura comme adresse email : kevin_degila@pythonboss.com . Ici vous devrez remarquer que l'adresse email ne contient que des lettres miniscules: C'est la préférence du directeur de PythonBoss. Vous avez intérêt à le satisfaire."
      ]
    },
    {
      "cell_type": "code",
      "metadata": {
        "colab": {
          "base_uri": "https://localhost:8080/"
        },
        "id": "_nRO9XAP0oOs",
        "outputId": "620f0abd-76f4-44cc-902b-1c5d3024bc85"
      },
      "source": [
        "prenom = input(\"donnez moi votre prénom: \").lower()\n",
        "nom = input(\"donnez moi votre nom: \").lower()\n",
        "print(\"Votre adresse mail est :\"f'{prenom}_{nom}@pythonboss.com')"
      ],
      "execution_count": null,
      "outputs": [
        {
          "output_type": "stream",
          "text": [
            "donnez moi votre prénom: DaNiela\n",
            "donnez moi votre nom: Lemus\n",
            "Votre adresse mail est :daniela_lemus@pythonboss.com\n"
          ],
          "name": "stdout"
        }
      ]
    },
    {
      "cell_type": "markdown",
      "metadata": {
        "id": "EsTymQveMC2y"
      },
      "source": [
        "# Exo 5 : Ordonner une chaine de caractères"
      ]
    },
    {
      "cell_type": "markdown",
      "metadata": {
        "id": "TfJiilmtMC20"
      },
      "source": [
        "Dans cet exercice, vous allez écrire une fonction `ordonne_str` qui prend une chaîne de caractères (string) et retourne ce même string mais en l'ordonnant par ordre alphabétique.\n",
        "\n",
        "Par exemple:\n",
        "```python\n",
        "ordonne_str('python')\n",
        "> 'hnopty'\n",
        "```"
      ]
    },
    {
      "cell_type": "code",
      "metadata": {
        "id": "Dn_mI5unB5g-"
      },
      "source": [
        "def ordonne_str(string):\n",
        "  string = sorted(string)\n",
        "  return string"
      ],
      "execution_count": null,
      "outputs": []
    },
    {
      "cell_type": "code",
      "metadata": {
        "colab": {
          "base_uri": "https://localhost:8080/"
        },
        "id": "EO07uIh4PJxH",
        "outputId": "f75e9ce2-4b65-411c-9415-dd719c0bd703"
      },
      "source": [
        "ordonne_str(\"corine\")"
      ],
      "execution_count": null,
      "outputs": [
        {
          "output_type": "execute_result",
          "data": {
            "text/plain": [
              "['c', 'e', 'i', 'n', 'o', 'r']"
            ]
          },
          "metadata": {
            "tags": []
          },
          "execution_count": 6
        }
      ]
    },
    {
      "cell_type": "markdown",
      "metadata": {
        "id": "dD6wZHVoMC21"
      },
      "source": [
        "# Exo 6 : Le Francais sans Voyelle"
      ]
    },
    {
      "cell_type": "markdown",
      "metadata": {
        "id": "3c1n3xHJMC24"
      },
      "source": [
        "A quoi ressemblerait le Français sans voyelle ? Nous allons écrire une fonction qui prend une chaine de caractères et enlève les voyelles. \n",
        "> Pour rappel, les voyelles en français sont : a e i o u y\n",
        "\n",
        "Par exemple : \n",
        "```python\n",
        "sans_voyelle('python')\n",
        "> 'pthn'\n",
        "```"
      ]
    },
    {
      "cell_type": "code",
      "metadata": {
        "id": "weyIR_ANPg2D"
      },
      "source": [
        "def sans_voyelle(string):\n",
        "  voyelles = [\"a\", \"e\",\"i\",\"o\",\"u\",\"y\",\"A\",\"E\",\"I\",\"O\",\"U\",\"Y\"]\n",
        "  liststring = list(string)\n",
        "  for i in string:\n",
        "    if i in voyelles:\n",
        "      liststring.remove(i)\n",
        "      new_string = \"\".join(liststring)\n",
        "  return new_string"
      ],
      "execution_count": null,
      "outputs": []
    },
    {
      "cell_type": "code",
      "metadata": {
        "colab": {
          "base_uri": "https://localhost:8080/",
          "height": 35
        },
        "id": "I5xzJgGpRS8w",
        "outputId": "9d16f09e-a798-4168-d6d6-b60a4b5bfd46"
      },
      "source": [
        "sans_voyelle(\"paaaesa\")"
      ],
      "execution_count": null,
      "outputs": [
        {
          "output_type": "execute_result",
          "data": {
            "application/vnd.google.colaboratory.intrinsic+json": {
              "type": "string"
            },
            "text/plain": [
              "'ps'"
            ]
          },
          "metadata": {
            "tags": []
          },
          "execution_count": 493
        }
      ]
    },
    {
      "cell_type": "markdown",
      "metadata": {
        "id": "I59pmarxMC27"
      },
      "source": [
        "# Exo 7 : Des phrases sans Voyelle autre que a"
      ]
    },
    {
      "cell_type": "code",
      "metadata": {
        "id": "t1eIOTHJa5fW"
      },
      "source": [
        ""
      ],
      "execution_count": null,
      "outputs": []
    },
    {
      "cell_type": "markdown",
      "metadata": {
        "id": "7CZm2GFEMC28"
      },
      "source": [
        "Modifie la précedente fonction pour quelle prenne desormais en entrée une phrase, c'est à dire des mots séparés par des espaces. Il enlève toutes les voyelles sauf la lettre a.\n",
        "Par exemple : \n",
        "```python\n",
        "sans_voyelle('Il fait tres beau ce matin')\n",
        "> 'l fat trs ba c mtn'\n",
        "```\n"
      ]
    },
    {
      "cell_type": "code",
      "metadata": {
        "id": "09yDr0z2QDCd"
      },
      "source": [
        "def sans_voyelle_a(string):\n",
        "  voyelles = [\"e\",\"i\",\"o\",\"u\",\"y\",\"E\",\"I\",\"O\",\"U\",\"Y\"]\n",
        "  liststring = list(string)\n",
        "  for i in string:\n",
        "    if i in voyelles:\n",
        "      liststring.remove(i)\n",
        "      new_string = \"\".join(liststring)\n",
        "  return new_string"
      ],
      "execution_count": null,
      "outputs": []
    },
    {
      "cell_type": "code",
      "metadata": {
        "colab": {
          "base_uri": "https://localhost:8080/",
          "height": 35
        },
        "id": "8VxEarJjQg64",
        "outputId": "e1afba94-6be3-43b6-d026-9e46fb962279"
      },
      "source": [
        "sans_voyelle_a(\"nous sommes naturels\")"
      ],
      "execution_count": null,
      "outputs": [
        {
          "output_type": "execute_result",
          "data": {
            "application/vnd.google.colaboratory.intrinsic+json": {
              "type": "string"
            },
            "text/plain": [
              "'ns smms natrls'"
            ]
          },
          "metadata": {
            "tags": []
          },
          "execution_count": 11
        }
      ]
    },
    {
      "cell_type": "markdown",
      "metadata": {
        "id": "SJYa3vyHMC29"
      },
      "source": [
        "# Exo 8 : Début et fin des séquences"
      ]
    },
    {
      "cell_type": "markdown",
      "metadata": {
        "id": "YoS-RJ30MC2_"
      },
      "source": [
        "En Python, les listes, les tuples et les strings sont des séquences. En Python, on peut écrire une fonction qui prend différents types de variables. Dans cet exercice, nous allons écrire une fonction qui prend en Entrée, une liste, un tuple ou un string et retourne une variable du même type mais avec le premier et le dernier élément de la séquence.\n",
        "\n",
        "```python\n",
        "debut_fin('deopry')\n",
        "> 'dy'\n",
        "\n",
        "debut_fin([5,2,6,9,8])\n",
        "> [5, 8]\n",
        "\n",
        "debut_fin((2,6,8,9))\n",
        "> 2, 9\n",
        "\n",
        "```"
      ]
    },
    {
      "cell_type": "code",
      "metadata": {
        "id": "XAsWdxTpRDt5"
      },
      "source": [
        "def debut_fin(data):\n",
        "  data_type = type(data)\n",
        "  x = data[0]\n",
        "  y = data [-1]\n",
        "  if data_type is str:\n",
        "      print(f'\"{x}{y}\"')\n",
        "  if data_type is tuple:\n",
        "      print((x,y))\n",
        "  if data_type is list:\n",
        "      print([x,y])\n",
        " \n"
      ],
      "execution_count": null,
      "outputs": []
    },
    {
      "cell_type": "code",
      "metadata": {
        "colab": {
          "base_uri": "https://localhost:8080/"
        },
        "id": "--6stZFmSUr1",
        "outputId": "9cde3713-979e-44c1-9483-6b795439b202"
      },
      "source": [
        "debut_fin([5,2,9,6])"
      ],
      "execution_count": null,
      "outputs": [
        {
          "output_type": "stream",
          "text": [
            "[5, 6]\n"
          ],
          "name": "stdout"
        }
      ]
    },
    {
      "cell_type": "code",
      "metadata": {
        "colab": {
          "base_uri": "https://localhost:8080/"
        },
        "id": "kKNEJFgtrbvD",
        "outputId": "01ce8c22-8a7a-4ccb-c64a-90d22324f190"
      },
      "source": [
        "debut_fin(\"corine\")"
      ],
      "execution_count": null,
      "outputs": [
        {
          "output_type": "stream",
          "text": [
            "\"ce\"\n"
          ],
          "name": "stdout"
        }
      ]
    },
    {
      "cell_type": "code",
      "metadata": {
        "colab": {
          "base_uri": "https://localhost:8080/"
        },
        "id": "prcBHir5y7OA",
        "outputId": "cf3887de-18a3-4b9c-f992-70e59257cef6"
      },
      "source": [
        "debut_fin((8,5,6,18))"
      ],
      "execution_count": null,
      "outputs": [
        {
          "output_type": "stream",
          "text": [
            "(8, 18)\n"
          ],
          "name": "stdout"
        }
      ]
    },
    {
      "cell_type": "code",
      "metadata": {
        "colab": {
          "base_uri": "https://localhost:8080/"
        },
        "id": "_eTPm0ETsrDx",
        "outputId": "f1c42393-c98a-4055-8129-23628d931c52"
      },
      "source": [
        "a =\"corine\" \n",
        "type(a)"
      ],
      "execution_count": null,
      "outputs": [
        {
          "output_type": "execute_result",
          "data": {
            "text/plain": [
              "str"
            ]
          },
          "metadata": {
            "tags": []
          },
          "execution_count": 125
        }
      ]
    },
    {
      "cell_type": "code",
      "metadata": {
        "colab": {
          "base_uri": "https://localhost:8080/"
        },
        "id": "g6crDgP00sT9",
        "outputId": "9b851415-23f8-48aa-8864-89138ab6a668"
      },
      "source": [
        "debut_fin([\"Anna\", 1,5,6])"
      ],
      "execution_count": null,
      "outputs": [
        {
          "output_type": "stream",
          "text": [
            "['Anna', 6]\n"
          ],
          "name": "stdout"
        }
      ]
    },
    {
      "cell_type": "markdown",
      "metadata": {
        "id": "Wzz8_ujnMC3A"
      },
      "source": [
        "# Exo 9 : Dis moi ton index, je te dirai qui tu es"
      ]
    },
    {
      "cell_type": "markdown",
      "metadata": {
        "id": "jMUxFQ3DMC3B"
      },
      "source": [
        "Dans cet exercice, vous allez écrire une fonction qui prend entrée, une liste de nombre et retourne une liste contenant:\n",
        "* La somme des éléments d'index pairs\n",
        "* La somme des éléments d'index impairs\n",
        "\n",
        "```python\n",
        "somme_pair_impair([10,20,30,40,50,60])\n",
        "> [90, 120]\n",
        "```"
      ]
    },
    {
      "cell_type": "code",
      "metadata": {
        "id": "7grFDeVqxwOI"
      },
      "source": [
        "def nombre_pair(int):\n",
        "  if int % 2 == 0:\n",
        "    print(\"True\")\n",
        "  else:\n",
        "    print(\"false\")"
      ],
      "execution_count": null,
      "outputs": []
    },
    {
      "cell_type": "code",
      "metadata": {
        "colab": {
          "base_uri": "https://localhost:8080/"
        },
        "id": "mmOdNPNuxwET",
        "outputId": "f96a1781-2735-46f8-87d1-5ef15d60a141"
      },
      "source": [
        "nombre_pair(5)"
      ],
      "execution_count": null,
      "outputs": [
        {
          "output_type": "stream",
          "text": [
            "false\n"
          ],
          "name": "stdout"
        }
      ]
    },
    {
      "cell_type": "code",
      "metadata": {
        "id": "ImLEdIeZkBGY"
      },
      "source": [
        "def somme_pair(list):\n",
        "  somme_pair = 0\n",
        "  for i in list :\n",
        "    if i%2 == 0:\n",
        "      somme_pair += i\n",
        "  return somme_pair"
      ],
      "execution_count": null,
      "outputs": []
    },
    {
      "cell_type": "code",
      "metadata": {
        "colab": {
          "base_uri": "https://localhost:8080/"
        },
        "id": "kGX1jr31l1Rk",
        "outputId": "e22947b1-303e-4398-e6a1-8d3c3c502194"
      },
      "source": [
        "somme_pair([1, 5, 8, 10])"
      ],
      "execution_count": null,
      "outputs": [
        {
          "output_type": "execute_result",
          "data": {
            "text/plain": [
              "18"
            ]
          },
          "metadata": {
            "tags": []
          },
          "execution_count": 42
        }
      ]
    },
    {
      "cell_type": "code",
      "metadata": {
        "id": "6bvBefigqLx6"
      },
      "source": [
        "def somme_impair(list):\n",
        "  somme_impair = 0\n",
        "  for number in list:\n",
        "    if number%2 == 1:\n",
        "      somme_impair += number\n",
        "  return somme_impair"
      ],
      "execution_count": null,
      "outputs": []
    },
    {
      "cell_type": "code",
      "metadata": {
        "colab": {
          "base_uri": "https://localhost:8080/"
        },
        "id": "XRu_S-kkqsZ9",
        "outputId": "5ab943f7-5310-4955-a0db-9ac40a463522"
      },
      "source": [
        "somme_impair([1, 5, 8, 10])"
      ],
      "execution_count": null,
      "outputs": [
        {
          "output_type": "execute_result",
          "data": {
            "text/plain": [
              "6"
            ]
          },
          "metadata": {
            "tags": []
          },
          "execution_count": 49
        }
      ]
    },
    {
      "cell_type": "code",
      "metadata": {
        "id": "SPRfXZ--rDEK"
      },
      "source": [
        "def somme_pair_impair(list):\n",
        "  somme_pair = 0\n",
        "  somme_impair = 0\n",
        "  for i in list :\n",
        "      if i%2 == 0:\n",
        "        somme_pair += i\n",
        "      if i%2 == 1:\n",
        "        somme_impair += i\n",
        "      somme_pair_impair = [somme_pair, somme_impair]\n",
        "  return somme_pair_impair  \n",
        "  \n"
      ],
      "execution_count": null,
      "outputs": []
    },
    {
      "cell_type": "code",
      "metadata": {
        "colab": {
          "base_uri": "https://localhost:8080/"
        },
        "id": "EYWh6-VOyOtp",
        "outputId": "34245b42-f48b-4285-fb7f-22048b2de082"
      },
      "source": [
        "somme_pair_impair([1, 5, 8, 10])"
      ],
      "execution_count": null,
      "outputs": [
        {
          "output_type": "execute_result",
          "data": {
            "text/plain": [
              "[18, 6]"
            ]
          },
          "metadata": {
            "tags": []
          },
          "execution_count": 66
        }
      ]
    },
    {
      "cell_type": "code",
      "metadata": {
        "colab": {
          "base_uri": "https://localhost:8080/"
        },
        "id": "JzMvvpxxzth9",
        "outputId": "0f6f193c-7004-43ad-bba4-2a9fc0877568"
      },
      "source": [
        "somme_pair_impair([83, 2, 6, 3,1])"
      ],
      "execution_count": null,
      "outputs": [
        {
          "output_type": "execute_result",
          "data": {
            "text/plain": [
              "[8, 87]"
            ]
          },
          "metadata": {
            "tags": []
          },
          "execution_count": 71
        }
      ]
    },
    {
      "cell_type": "code",
      "metadata": {
        "colab": {
          "base_uri": "https://localhost:8080/"
        },
        "id": "ZasscegE3s7H",
        "outputId": "4e9b17e1-06b9-48de-c389-efccf336a96b"
      },
      "source": [
        "somme_pair_impair([45,5,0,6])"
      ],
      "execution_count": null,
      "outputs": [
        {
          "output_type": "execute_result",
          "data": {
            "text/plain": [
              "[6, 50]"
            ]
          },
          "metadata": {
            "tags": []
          },
          "execution_count": 76
        }
      ]
    },
    {
      "cell_type": "markdown",
      "metadata": {
        "id": "Cr6dftV-MC3D"
      },
      "source": [
        "# Exo 10 : Mot ayant le plus de lettre répétée"
      ]
    },
    {
      "cell_type": "markdown",
      "metadata": {
        "id": "P-tYB2hzMC3E"
      },
      "source": [
        "Dans cet exercice, tu es appélé à écrire une fonction `mot_lettre_repetee` qui prend en entrée, une liste de mots. Pour chaque mot, trouve la lettre qui se répète le plus. La focntion retourne alors le mot ayant une lettre qui se répète le plus de fois (dans ce même mot, bien sûr).\n",
        "\n",
        "```python\n",
        "mot_lettre_repetee([\"On\", \"a\", \"effectuee\", \"plusieurs\", \"tests\", \"elementaire\", \"ce\", \"matin\"])\n",
        "> \"elementaire\"\n",
        "```\n",
        "En cas d'égalité, n'importe quelle option vraie est juste."
      ]
    },
    {
      "cell_type": "code",
      "metadata": {
        "id": "ce1y2RJE4Aar"
      },
      "source": [
        "def lettre_repetee(str):\n",
        "  lettre_plus_repetee ={}\n",
        "  for lettre in str:\n",
        "    lettre_plus_repetee[lettre] = str.count(lettre)\n",
        "    for str, occurence in lettre_plus_repetee.items():\n",
        "      if occurence == max(lettre_plus_repetee.values()):\n",
        "        return {str:occurence}"
      ],
      "execution_count": null,
      "outputs": []
    },
    {
      "cell_type": "markdown",
      "metadata": {
        "id": "BAFJufgC45ZI"
      },
      "source": [
        "lettre_repetee(\"elementaire\")"
      ]
    },
    {
      "cell_type": "code",
      "metadata": {
        "id": "2KsFeTm07geS"
      },
      "source": [
        "from collections import Counter\n",
        "def mot_lettre_repetee(list):\n",
        "  mot_lettre_repetee = {}\n",
        "  for mot in list:\n",
        "    for lettre in mot:\n",
        "      mot_lettre_repetee[mot] = max(Counter(mot).values())\n",
        "  print(mot_lettre_repetee)\n",
        "  for mot, occurence in mot_lettre_repetee.items():\n",
        "        if occurence == max(mot_lettre_repetee.values()):\n",
        "          return mot\n",
        "  \n",
        "  "
      ],
      "execution_count": null,
      "outputs": []
    },
    {
      "cell_type": "code",
      "metadata": {
        "colab": {
          "base_uri": "https://localhost:8080/",
          "height": 52
        },
        "id": "Sjh2FS0fbiG7",
        "outputId": "e3653d7d-248e-4abe-d3b0-de6be0a39ab2"
      },
      "source": [
        "mot_lettre_repetee([\"On\",\"a\",\"effectue\",\"plusieurs\",\"tessssto\",\"elementaire\",\"ce\",\"matin\"])"
      ],
      "execution_count": null,
      "outputs": [
        {
          "output_type": "stream",
          "text": [
            "{'On': 1, 'a': 1, 'effectue': 3, 'plusieurs': 2, 'tessssto': 4, 'elementaire': 4, 'ce': 1, 'matin': 1}\n"
          ],
          "name": "stdout"
        },
        {
          "output_type": "execute_result",
          "data": {
            "application/vnd.google.colaboratory.intrinsic+json": {
              "type": "string"
            },
            "text/plain": [
              "'tessssto'"
            ]
          },
          "metadata": {
            "tags": []
          },
          "execution_count": 171
        }
      ]
    },
    {
      "cell_type": "code",
      "metadata": {
        "colab": {
          "base_uri": "https://localhost:8080/",
          "height": 52
        },
        "id": "9jUficYBNaP-",
        "outputId": "e87c99e4-b628-4def-94d0-981fbd6d8516"
      },
      "source": [
        "mot_lettre_repetee([\"compris\", \"mere\", \"constitution\"])"
      ],
      "execution_count": null,
      "outputs": [
        {
          "output_type": "stream",
          "text": [
            "{'compris': 1, 'mere': 2, 'constitution': 3}\n"
          ],
          "name": "stdout"
        },
        {
          "output_type": "execute_result",
          "data": {
            "application/vnd.google.colaboratory.intrinsic+json": {
              "type": "string"
            },
            "text/plain": [
              "'constitution'"
            ]
          },
          "metadata": {
            "tags": []
          },
          "execution_count": 172
        }
      ]
    },
    {
      "cell_type": "markdown",
      "metadata": {
        "id": "3McYytJ9MC3F"
      },
      "source": [
        "# Exo 11 : Distance entre plusieurs points"
      ]
    },
    {
      "cell_type": "markdown",
      "metadata": {
        "id": "XPHaPtiMMC3J"
      },
      "source": [
        "Ecrivez une fonction qui prend une liste des nombres et qui retourne une liste qui contient la distance entre les différents nombres successifs.\n",
        "\n",
        "Exemple\n",
        "\n",
        "* input : [65, 54, 59]\n",
        "* output : [11, 5]\n"
      ]
    },
    {
      "cell_type": "code",
      "metadata": {
        "id": "cbyzRTU_fma3"
      },
      "source": [
        "def distance(list):\n",
        "  l1 = list[0:-1]\n",
        "  l2 = list[1:]\n",
        "  distance =[]\n",
        "  for a,b in zip(l1,l2):\n",
        "    distance.append(abs(b-a))\n",
        "  return distance"
      ],
      "execution_count": null,
      "outputs": []
    },
    {
      "cell_type": "code",
      "metadata": {
        "colab": {
          "base_uri": "https://localhost:8080/"
        },
        "id": "jldXNonPvAKm",
        "outputId": "133786e2-7dd1-4af2-b745-c2f25365d51c"
      },
      "source": [
        "distance([25,30,40])"
      ],
      "execution_count": null,
      "outputs": [
        {
          "output_type": "execute_result",
          "data": {
            "text/plain": [
              "[5, 10]"
            ]
          },
          "metadata": {
            "tags": []
          },
          "execution_count": 266
        }
      ]
    },
    {
      "cell_type": "code",
      "metadata": {
        "colab": {
          "base_uri": "https://localhost:8080/"
        },
        "id": "Viv-6We9mC2s",
        "outputId": "730c3007-a234-45fb-eb89-1a672519218d"
      },
      "source": [
        "distance([15,3,38,33,45,42])"
      ],
      "execution_count": null,
      "outputs": [
        {
          "output_type": "execute_result",
          "data": {
            "text/plain": [
              "[12, 35, 5, 12, 3]"
            ]
          },
          "metadata": {
            "tags": []
          },
          "execution_count": 267
        }
      ]
    },
    {
      "cell_type": "code",
      "metadata": {
        "colab": {
          "base_uri": "https://localhost:8080/"
        },
        "id": "13qYrjpSPquu",
        "outputId": "b2ce0ed0-9122-4668-83f4-35f0e42c7181"
      },
      "source": [
        "liste = [20,10,50]\n",
        "a = liste[0:-1]\n",
        "b = liste[1:]\n",
        "c = list(zip(a,b))\n",
        "print(c)\n",
        "\n"
      ],
      "execution_count": null,
      "outputs": [
        {
          "output_type": "stream",
          "text": [
            "[(20, 40), (40, 50)]\n"
          ],
          "name": "stdout"
        }
      ]
    },
    {
      "cell_type": "markdown",
      "metadata": {
        "id": "gLrf27fvMC3L"
      },
      "source": [
        "# Exo 12: Lettres successifs et combien d'occurences"
      ]
    },
    {
      "cell_type": "markdown",
      "metadata": {
        "id": "hYQgPZdiMC3M"
      },
      "source": [
        "Ecrivez une fonction qui prend en input une chaine de caractères contenant des lettres et retourne une liste de tuple qui contient successivement chaque lettre  et le nombre d'occurences successives.\n",
        "Exemple : \n",
        "\n",
        "* input : 'aaaccdaad\"\n",
        "* output : [(a,3), (c, 2), (d, 1), (a,2), (d, 1)]"
      ]
    },
    {
      "cell_type": "code",
      "metadata": {
        "id": "1M4XhQCCCxi-"
      },
      "source": [
        "def lettres_successifs(str):\n",
        "  counter = 1\n",
        "  result = []\n",
        "  for i in range(len(str)-1):\n",
        "    if str[i] == str[i+1]:\n",
        "      counter+=1\n",
        "    else:\n",
        "      result.append((str[i], counter))\n",
        "      counter =1\n",
        "  result.append((str[-1], counter))\n",
        "  print(result)"
      ],
      "execution_count": null,
      "outputs": []
    },
    {
      "cell_type": "code",
      "metadata": {
        "colab": {
          "base_uri": "https://localhost:8080/"
        },
        "id": "o7WPFlmVDcvt",
        "outputId": "a673c23f-1dc8-4c3c-a2db-1f4a99c3b258"
      },
      "source": [
        "lettres_successifs(\"addpprreeo\")"
      ],
      "execution_count": null,
      "outputs": [
        {
          "output_type": "stream",
          "text": [
            "[('a', 1), ('d', 2), ('p', 2), ('r', 2), ('e', 2), ('o', 1)]\n"
          ],
          "name": "stdout"
        }
      ]
    },
    {
      "cell_type": "code",
      "metadata": {
        "id": "4K5e80CBxVYr"
      },
      "source": [
        "def crypter(CH):\n",
        "    res = ''\n",
        "    if len(CH) <= 50:\n",
        "        cpt = 1\n",
        "        for i in range(len(CH)-1):\n",
        "            if CH[i] == CH[i+1]:\n",
        "                cpt += 1\n",
        "            else:\n",
        "                res += str(cpt)+CH[i]\n",
        "                cpt = 1\n",
        "        res += str(cpt)+CH[-1]\n",
        "    return res\n",
        " \n",
        " \n",
        "print(crypter(\"aaaFyBssssssssssssazz\")"
      ],
      "execution_count": null,
      "outputs": []
    },
    {
      "cell_type": "code",
      "metadata": {
        "id": "BOd_fuRZyK7S"
      },
      "source": [
        "def crypter(CH):\n",
        "    res = ''\n",
        "    if len(CH) <= 50:\n",
        "        cpt = 1\n",
        "        for i in range(len(CH)-1):\n",
        "            if CH[i] == CH[i+1]:\n",
        "                cpt += 1\n",
        "        res += str(cpt)+CH[-1]\n",
        "    return res"
      ],
      "execution_count": null,
      "outputs": []
    },
    {
      "cell_type": "code",
      "metadata": {
        "colab": {
          "base_uri": "https://localhost:8080/",
          "height": 35
        },
        "id": "xT-MFUJoyQyS",
        "outputId": "f86068fc-0bf5-4eb2-8195-77a031b6c63e"
      },
      "source": [
        "crypter(\"eeeiiddd\")"
      ],
      "execution_count": null,
      "outputs": [
        {
          "output_type": "execute_result",
          "data": {
            "application/vnd.google.colaboratory.intrinsic+json": {
              "type": "string"
            },
            "text/plain": [
              "'6d'"
            ]
          },
          "metadata": {
            "tags": []
          },
          "execution_count": 5
        }
      ]
    },
    {
      "cell_type": "markdown",
      "metadata": {
        "id": "NYwstfRKMC3N"
      },
      "source": [
        "# Exo 13: Notre restaurant est fermé à cause de la crise du covid, commandez en ligne"
      ]
    },
    {
      "cell_type": "markdown",
      "metadata": {
        "id": "aqSapeoAMC3O"
      },
      "source": [
        "Dans cet exercice, vous allez écrire le code pour l'application mobile de votre restaurant afin de permettre aux clients de commander en ligne.\n",
        "\n",
        "Vous allez d'abord définir un menu sous forme de dictionnaire. Les clés (chaines de caractères) sont les différents repas ou boissons que vous servez et les valeurs (integers ou float) sont leurs prix correspondants.\n",
        "Une fonction `restaurant` se chargera de demander à l'utilisateur sa commande:\n",
        "* Si la commande existe dans notre menu, le programme affiche son prix et le total actuel de ses commandes, puis lui demande d'entrée une nouvelle commande.\n",
        "* Si la commande n'existe pas dans notre menu, on le dit à l'utilisateur et lui demande de commander autre chose.\n",
        "* Si l'utilisateur appuie Entrée sans rien commander, on lui affiche le prix total de sa commande.\n",
        "\n",
        "Exemple : \n",
        "\n",
        "> Bienvenu dans notre Restaurant\n",
        "* Commande: Burger\n",
        "* Burger coûte 10, total est 10\n",
        "* Commande: cafe\n",
        "* cafe coûte 7, total est 17\n",
        "* Commande: Chicha\n",
        "* Désolé, Nous n'offrons pas de chicha aujourd'hui.\n",
        "* Commande: <entréee>\n",
        "* Votre total est 17"
      ]
    },
    {
      "cell_type": "code",
      "metadata": {
        "id": "HyGeW8xoRzLJ"
      },
      "source": [
        "#code application mobile\n",
        "menu = {\"burger\" : 10.5, \"cafe\" : 7, \"sandwich\":5.5}\n",
        "def restaurant():\n",
        "  print(menu)\n",
        "  reponse =input('Bienvenue dans notre restaurant!!! Que commandez-vous ? ')\n",
        "  total = 0\n",
        "  if reponse in menu.keys():\n",
        "    prix = menu[reponse]\n",
        "    total += prix\n",
        "    print(f'le prix est de: {prix}, total de commande:{total}')\n",
        "    reponse_2 = input('entrez une nouvelle commande:')\n",
        "    if reponse_2 in menu.keys():\n",
        "      prix_2 = menu[reponse_2]\n",
        "      total+=prix_2\n",
        "      print(f'le prix est de: {prix_2}, total de commande:{total}')\n",
        "      reponse_3 = input('entrez une nouvelle commande:')\n",
        "    if reponse_3 in menu.keys():\n",
        "      prix_3 = menu[reponse_3]\n",
        "      total+=prix_3\n",
        "      print(f'le prix est de: {prix_3}, total de commande:{total}')\n",
        "      reponse_4 = input('entrez une nouvelle commande:')\n",
        "  if reponse not in menu.keys():\n",
        "    print(f\"Désolé, nous n'offrons pas de {reponse} aujourd'hui\")\n",
        "    reponse = input(f'Commandez un autre plat')\n",
        "  if reponse_2 not in menu.keys():\n",
        "    print(f\"Désolé, nous n'offrons pas de {reponse_2} aujourd'hui\")\n",
        "    reponse = input(f'Commandez un autre plat')\n",
        "  if reponse_3 not in menu.keys():\n",
        "    print(f\"Désolé, nous n'offrons pas de {reponse_3} aujourd'hui\")\n",
        "    reponse = input(f'Commandez un autre plat')\n",
        "  if reponse == \"\":\n",
        "    print(\"votre total est :\", total)\n",
        "  if reponse_2 == \"\":\n",
        "    print(\"votre total est :\", total)\n",
        "  if reponse_3 == \"\":\n",
        "    print(\"votre total est :\", total)\n"
      ],
      "execution_count": null,
      "outputs": []
    },
    {
      "cell_type": "code",
      "metadata": {
        "colab": {
          "base_uri": "https://localhost:8080/"
        },
        "id": "KzxJn8ant4NT",
        "outputId": "5edaeca8-ea5d-48e8-9e80-dff7b610003f"
      },
      "source": [
        "restaurant()"
      ],
      "execution_count": null,
      "outputs": [
        {
          "output_type": "stream",
          "text": [
            "{'burger': 10.5, 'cafe': 7, 'sandwich': 5.5}\n",
            "Bienvenue dans notre restaurant!!! Que commandez-vous ? burger\n",
            "le prix est de: 10.5, total de commande:10.5\n",
            "entrez une nouvelle commande:cafe\n",
            "le prix est de: 7, total de commande:17.5\n",
            "entrez une nouvelle commande:chicha\n",
            "Désolé, nous n'offrons pas de chicha aujourd'hui\n",
            "Commandez un autre plat\n",
            "votre total est : 17.5\n"
          ],
          "name": "stdout"
        }
      ]
    },
    {
      "cell_type": "code",
      "metadata": {
        "id": "77EnsEiImlIQ"
      },
      "source": [
        "menu = {\"burger\" : 10.5, \"cafe\" : 7, \"sandwich\":5.5}\n",
        "def restaurant_2():\n",
        "  print(menu)\n",
        "  reponse =input('Bienvenue dans notre restaurant!!! Que commandez-vous ? ')\n",
        "  total = 0\n",
        "  while True : \n",
        "    if reponse in menu.keys():\n",
        "      prix = menu[reponse]\n",
        "      total += prix\n",
        "      print(f'le prix est de: {prix}, total de commande:{total}')\n",
        "      reponse = input('entrez une nouvelle commande:')\n",
        "    if reponse not in menu.keys():\n",
        "      print(f\"Désolé, nous n'offrons pas de {reponse} aujourd'hui\")\n",
        "      reponse = input(f'Commandez un autre plat')\n",
        "    if reponse ==\"\":\n",
        "      break\n",
        "  print(\"votre total est :\", total)\n",
        "    "
      ],
      "execution_count": null,
      "outputs": []
    },
    {
      "cell_type": "code",
      "metadata": {
        "colab": {
          "base_uri": "https://localhost:8080/"
        },
        "id": "Vf3uhE5QnPXN",
        "outputId": "53915e84-0d5e-43ed-b65c-3d702314d10e"
      },
      "source": [
        "restaurant_2()"
      ],
      "execution_count": null,
      "outputs": [
        {
          "output_type": "stream",
          "text": [
            "{'burger': 10.5, 'cafe': 7, 'sandwich': 5.5}\n",
            "Bienvenue dans notre restaurant!!! Que commandez-vous ? cafe\n",
            "le prix est de: 7, total de commande:7\n",
            "entrez une nouvelle commande:burger\n",
            "le prix est de: 10.5, total de commande:17.5\n",
            "entrez une nouvelle commande:chicha\n",
            "Désolé, nous n'offrons pas de chicha aujourd'hui\n",
            "Commandez un autre plat\n",
            "votre total est : 17.5\n"
          ],
          "name": "stdout"
        }
      ]
    },
    {
      "cell_type": "markdown",
      "metadata": {
        "id": "fO9wfLJgMC3P"
      },
      "source": [
        "# Exo 14: Trop d'escale, c'est fatiguant"
      ]
    },
    {
      "cell_type": "markdown",
      "metadata": {
        "id": "6DKstNZ9MC3Q"
      },
      "source": [
        "Vous êtes dans une agence de voyage pour acheter un billet d'avion. Vous donnez la destination à l'agent qui vous informe, qu'il faudra faire des escales. Il vous dit alors la ville de chaque escale et la duree de chaque escale. Vous décidez d'enregistrer tout cela dans un dictionnaire pour l'afficher plus tard et la somme des heures d'escales.\n",
        "\n",
        "Vous allez écrire un programme qui demande à l'agent la ville (clé) et le nombre d'heure d'escale (valeur). Le programme lui repose la même question jusqu'à ce qu'il dit que c'est fini en appuyant entrée sans rien écrire. A la fin de la saisie, vous affichez les villes et leur nombre d'heures correspondant et le nombre d'heures total d'escale.\n",
        "\n",
        "Exemple:\n",
        "\n",
        "> Python Airlines\n",
        "* Ville: Paris, nb d'heures : 2\n",
        "* Ville: Nairobi, nb d'heures : 1\n",
        "* Ville: Bamako, nb d'heures : 0.5\n",
        "* Ville: Abuja, nb d'heures : 2.5\n",
        "* Ville: <entréee>\n",
        "\n",
        "Liste des escales : \n",
        "\n",
        "Paris 2,\n",
        "\n",
        "Nairobi 1,\n",
        "\n",
        "Bamako 0.5\n",
        "\n",
        "Abuja 2.5\n",
        "\n",
        "* Votre total d'heures d'escales est 6 heures"
      ]
    },
    {
      "cell_type": "code",
      "metadata": {
        "colab": {
          "base_uri": "https://localhost:8080/"
        },
        "id": "UQ1dfPyigtUH",
        "outputId": "a8fcb0d2-3f14-449c-8e82-d87eb032cd26"
      },
      "source": [
        "ville_heures = {}\n",
        "while True : \n",
        "  ville = input(\"quelle est la ville d'escale ? : \")\n",
        "  if ville !=\"\" :\n",
        "      ville_heures.update({ville : float((input(\"Combien d'heure d'escale ?\")))})\n",
        "  else:\n",
        "    break\n",
        "print(ville_heures)\n",
        "for key, value in ville_heures.items():\n",
        "  somme_heures = sum(ville_heures.values())\n",
        "print(\"Votre total d'heures d'escales est:\",somme_heures,\"heures\")"
      ],
      "execution_count": null,
      "outputs": [
        {
          "output_type": "stream",
          "text": [
            "quelle est la ville d'escale ? : paris\n",
            "Combien d'heure d'escale ?2\n",
            "quelle est la ville d'escale ? : nairobi\n",
            "Combien d'heure d'escale ?1\n",
            "quelle est la ville d'escale ? : bamako\n",
            "Combien d'heure d'escale ?0.5\n",
            "quelle est la ville d'escale ? : abuja\n",
            "Combien d'heure d'escale ?2.5\n",
            "quelle est la ville d'escale ? : \n",
            "{'paris': 2.0, 'nairobi': 1.0, 'bamako': 0.5, 'abuja': 2.5}\n",
            "Votre total d'heures d'escales est: 6.0 heures\n"
          ],
          "name": "stdout"
        }
      ]
    },
    {
      "cell_type": "markdown",
      "metadata": {
        "id": "ELh5P4AwMC3R"
      },
      "source": [
        "# Exo 15: Combien de mots il y a-t-il dans ton fichier ?"
      ]
    },
    {
      "cell_type": "markdown",
      "metadata": {
        "id": "d00MVgx6MC3S"
      },
      "source": [
        "Dans cet exercice, vous allez écrire une fonction `wordcount` qui prend en entrée le chemin d'un fichier et affiche les 4 lignes suivantes en sortie:\n",
        "\n",
        "* Le nombre de caractères (les espaces inclus) est ....\n",
        "* Le nombre de mots (séparé par des espaces: 25 est un mot) est .....\n",
        "* Le nombre de lignes est ....\n",
        "* Le nombre de mots distincts (\"Oui\" et \"oui\" sont 2 mots uniques) est .... (taille du vocabulaire du fichier)\n",
        "\n",
        "Un fichier texte nommée `count.txt` se trouve dans le dossier `datasets`. Vous pouvez l'utiliser pour tester votre code."
      ]
    },
    {
      "cell_type": "code",
      "metadata": {
        "id": "ZIdYNxtffWRk"
      },
      "source": [
        "from collections import Counter\n",
        "def wordcount(path):\n",
        "  with open(path, 'r') as f: \n",
        "    lines = f.readlines()\n",
        "  for index, line in enumerate(lines):\n",
        "    lines[index] = line.replace('\\n', '')\n",
        "  # nombre de caracteres espaces inclus\n",
        "  nombre_caractere = 0\n",
        "  for i in lines : \n",
        "    nombre_caractere +=  sum(Counter(i).values())\n",
        "  # nombre de mots espaces exclus\n",
        "  nombre_de_mots = 0\n",
        "  for i in lines :\n",
        "    nombre_de_mots += len(i.split(' '))\n",
        "  #nombre de lignes \n",
        "  nombre_lignes = len(lines)\n",
        "  #nombre de mots dictincts\n",
        "  liste_nombre_mots_distincts = []\n",
        "  for i in lines:\n",
        "    liste_nombre_mots_distincts.append(i.split(\" \"))\n",
        "    mot_uniques = []\n",
        "    for u in liste_nombre_mots_distincts:\n",
        "       for mot in u:\n",
        "         if mot not in mot_uniques:\n",
        "           mot_uniques.append(mot)\n",
        "    \n",
        "  print(\"nombre_caractere\", nombre_caractere)  \n",
        "  print(\"nombre_de_mots\", nombre_de_mots)  \n",
        "  print(\"nombre_lignes\", nombre_lignes)\n",
        "  print(\"liste_nombre_mots_distincts\",liste_nombre_mots_distincts) \n",
        "  print(\"mot_uniques\", mot_uniques)\n",
        "\n",
        "\n",
        "\n",
        "    \n"
      ],
      "execution_count": null,
      "outputs": []
    },
    {
      "cell_type": "code",
      "metadata": {
        "colab": {
          "base_uri": "https://localhost:8080/"
        },
        "id": "g0y7T7r5ulBi",
        "outputId": "7e55c112-5ddf-4435-b64e-858b379f028b"
      },
      "source": [
        "%%writefile count.txt\n",
        "Ceci est un fichier qui est censé contenir plusieurs lignes\n",
        "C'est fascinant les choses possibles quand on sait programmer en Python\n",
        "Python est ce langage qui est devenu depuis un moment le langage le plus utilisé\n",
        "au monde\n",
        "Python est beaucoup utilisé en intelligence artificielle et dans beaucoup de domaines dont on ne parlera pas dans ce fichier\n",
        "Cette formation sur Python est censé vous apprendre les bases afin que vous évoluez très rapidement plus tard.\n",
        "Si vous avez aimé ce bootcamp, parlez-en à des proches."
      ],
      "execution_count": null,
      "outputs": [
        {
          "output_type": "stream",
          "text": [
            "Writing count.txt\n"
          ],
          "name": "stdout"
        }
      ]
    },
    {
      "cell_type": "code",
      "metadata": {
        "id": "3UMHN6-u4tdq"
      },
      "source": [
        ""
      ],
      "execution_count": null,
      "outputs": []
    },
    {
      "cell_type": "code",
      "metadata": {
        "colab": {
          "base_uri": "https://localhost:8080/"
        },
        "id": "EMdYH2c2io0L",
        "outputId": "09c4be86-41a6-4786-8378-24aa6ab8c0a4"
      },
      "source": [
        "wordcount('/content/count.txt')"
      ],
      "execution_count": null,
      "outputs": [
        {
          "output_type": "stream",
          "text": [
            "nombre_caractere 507\n",
            "nombre_de_mots 86\n",
            "nombre_lignes 7\n",
            "liste_nombre_mots_distincts [['Ceci', 'est', 'un', 'fichier', 'qui', 'est', 'censé', 'contenir', 'plusieurs', 'lignes'], [\"C'est\", 'fascinant', 'les', 'choses', 'possibles', 'quand', 'on', 'sait', 'programmer', 'en', 'Python'], ['Python', 'est', 'ce', 'langage', 'qui', 'est', 'devenu', 'depuis', 'un', 'moment', 'le', 'langage', 'le', 'plus', 'utilisé'], ['au', 'monde'], ['Python', 'est', 'beaucoup', 'utilisé', 'en', 'intelligence', 'artificielle', 'et', 'dans', 'beaucoup', 'de', 'domaines', 'dont', 'on', 'ne', 'parlera', 'pas', 'dans', 'ce', 'fichier'], ['Cette', 'formation', 'sur', 'Python', 'est', 'censé', 'vous', 'apprendre', 'les', 'bases', 'afin', 'que', 'vous', 'évoluez', 'très', 'rapidement', 'plus', 'tard.'], ['Si', 'vous', 'avez', 'aimé', 'ce', 'bootcamp,', 'parlez-en', 'à', 'des', 'proches.']]\n",
            "mot_uniques ['Ceci', 'est', 'un', 'fichier', 'qui', 'censé', 'contenir', 'plusieurs', 'lignes', \"C'est\", 'fascinant', 'les', 'choses', 'possibles', 'quand', 'on', 'sait', 'programmer', 'en', 'Python', 'ce', 'langage', 'devenu', 'depuis', 'moment', 'le', 'plus', 'utilisé', 'au', 'monde', 'beaucoup', 'intelligence', 'artificielle', 'et', 'dans', 'de', 'domaines', 'dont', 'ne', 'parlera', 'pas', 'Cette', 'formation', 'sur', 'vous', 'apprendre', 'bases', 'afin', 'que', 'évoluez', 'très', 'rapidement', 'tard.', 'Si', 'avez', 'aimé', 'bootcamp,', 'parlez-en', 'à', 'des', 'proches.']\n"
          ],
          "name": "stdout"
        }
      ]
    },
    {
      "cell_type": "code",
      "metadata": {
        "id": "S5kqRtuhvtoy"
      },
      "source": [
        "from google.colab import drive\n",
        "drive.mount('/content/drive')"
      ],
      "execution_count": null,
      "outputs": []
    },
    {
      "cell_type": "markdown",
      "metadata": {
        "id": "u3GTd_veMC3T"
      },
      "source": [
        "# Exo 16: Générateur de mots de passe"
      ]
    },
    {
      "cell_type": "markdown",
      "metadata": {
        "id": "oJKmw7ucMC3U"
      },
      "source": [
        "Nous allons écrire une fonction `generateur_password` qui nous génère des mots de passe. Cette fonction est un peu particulière car elle retournera une autre fonction `password`. \n",
        "Certains sites n'acceptent que les mots de passe qu'avec des lettres, ou qu'avec des chiffres, ou acceptent des symboles comme @/$ ou simplement un mélange de tout ceci.\n",
        "\n",
        "La fonction `generateur_password` prend en entrée une chaine de caractères contenant les différents caractères possible et retourne la fonction `password` que je peux éxécuter plus tard en lui donnant le nombre de caractères que je veux dans mon mot de passe.\n",
        "\n",
        "Exemple:\n",
        "\n",
        "```python\n",
        "password = generateur_password('Aer5-/')\n",
        "mon_password = password(7)\n",
        "print(mon_password)\n",
        "> 'eA-Ae5/'\n",
        "```"
      ]
    },
    {
      "cell_type": "code",
      "metadata": {
        "id": "-L00vGCVzrva"
      },
      "source": [
        "import random\n",
        "def generateur_password(string):\n",
        "  def password(nbre_string):\n",
        "    mot_de_passe = \"\"\n",
        "    for i in range(nbre_string):\n",
        "       mot_de_passe += random.choice(string) \n",
        "    return (mot_de_passe)\n",
        "  return password\n",
        "  \n",
        "    \n"
      ],
      "execution_count": null,
      "outputs": []
    },
    {
      "cell_type": "code",
      "metadata": {
        "colab": {
          "base_uri": "https://localhost:8080/"
        },
        "id": "ocAULYif1ggc",
        "outputId": "02c2774b-a6ef-4e39-9204-b739e23aed79"
      },
      "source": [
        "password = generateur_password('Aer5-/')\n",
        "mon_password = password(7)\n",
        "print(mon_password)"
      ],
      "execution_count": null,
      "outputs": [
        {
          "output_type": "stream",
          "text": [
            "r-/rr-5\n"
          ],
          "name": "stdout"
        }
      ]
    },
    {
      "cell_type": "markdown",
      "metadata": {
        "id": "WfJlvwyrMC3V"
      },
      "source": [
        "# Exo 17: Modules"
      ]
    },
    {
      "cell_type": "markdown",
      "metadata": {
        "id": "r-lH0olmMC3W"
      },
      "source": [
        "Dans cet exercice, vous allez crée un module python nommée `bootcamp.py` qui contient la logique selon laquelle, un étudiant a reussi cette formation.\n",
        "\n",
        "Ce bootcamp est fait de 4 cours : \n",
        "* Les bases de Python dont le coefficient est 3\n",
        "* Le calcul numérique avec Numpy : 4\n",
        "* Manipulation des données avec Pandas : 7\n",
        "* Visualisation des données avec Matplotlib et Seaborn : 5\n",
        "\n",
        "La moyenne d'un étudiant est la moyenne coefficiée de ses notes. Pour éviter que les étudiants ratent des jours de cours, une pénalité est mise en place pour chaque jour de cours raté. Un minus de 5% est fait sur la moyenne de chaque étudiant pour chaque abscence. Un bonus de 10% de la moyenne est accordé aux étudiants n'ayant raté aucune séance de cours\n",
        "\n",
        "Avant de commencer ce bootcamp, chaque étudiant a donné son niveau en Python sur une échelle de 1 à 5. \n",
        "Pour réussir la formation, vous devrez avoir une moyenne finale de :\n",
        "* 17/20 si votre niveau est 5\n",
        "* 15/20 si votre niveau est 4\n",
        "* 14/20 si votre niveau est 3\n",
        "* 13.5/20 si votre niveau est 2\n",
        "* 12/20 si votre niveau est 1\n",
        "\n",
        "Vous êtes chargé d'écrire la logique de réussite d'un étudiant afin de faciliter la tâche au formateur. Il aimerait entrer les informations de chaque étudiant et obtenir un Oui s'il est admis et Non s'il ne l'est pas. Voici l'exemple pour un étudiant:\n",
        "\n",
        "```python\n",
        "import bootcamp\n",
        "\n",
        "resultat = bootcamp.decision(python=15, numpy=12, pandas=14.6, matplotlib=18, abscence=3, niveau=3)\n",
        "\n",
        "\n",
        "```"
      ]
    },
    {
      "cell_type": "code",
      "metadata": {
        "colab": {
          "base_uri": "https://localhost:8080/"
        },
        "id": "z2LABSfAsxmL",
        "outputId": "edc5c3b4-571b-4f5b-d8f1-c1c57c1bef50"
      },
      "source": [
        "%%writefile bootcamp_h.py\n",
        "coef_python = 3\n",
        "coef_numpy = 4\n",
        "coef_pandas = 7\n",
        "coef_matplotlib = 5\n",
        "pour_etre_admis = {1: 12, 2: 13.5, 3 : 14,  4: 15, 5 : 17}\n",
        "def decision(python , numpy, pandas, matplotlib, abscence, niveau):\n",
        "  if abscence == 0:\n",
        "    moyenne = (1+0.1)*((python*coef_python + numpy*coef_numpy + pandas* coef_pandas +matplotlib*coef_matplotlib)/(coef_python + coef_numpy + coef_pandas+coef_matplotlib))\n",
        "  else : \n",
        "    moyenne = (1- abscence*0.05)*((python*coef_python + numpy*coef_numpy + pandas* coef_pandas +matplotlib*coef_matplotlib)/(coef_python + coef_numpy + coef_pandas+coef_matplotlib))\n",
        "  for niveau_dict, moyenne_dict in pour_etre_admis.items():\n",
        "    if niveau_dict == niveau and moyenne_dict <= moyenne:\n",
        "      print(\"Votre moyenne est\",  moyenne, \"admis\")\n",
        "    if niveau_dict == niveau and moyenne_dict >= moyenne:\n",
        "      print(\"Votre moyenne est\",  moyenne, \"echoue\")"
      ],
      "execution_count": null,
      "outputs": [
        {
          "output_type": "stream",
          "text": [
            "Overwriting bootcamp_h.py\n"
          ],
          "name": "stdout"
        }
      ]
    },
    {
      "cell_type": "code",
      "metadata": {
        "colab": {
          "base_uri": "https://localhost:8080/"
        },
        "id": "uwizS0biuAif",
        "outputId": "9343e459-6fe0-41c4-a4b3-74832e4156c0"
      },
      "source": [
        "import bootcamp_h\n",
        "resultat = bootcamp_h.decision(python=15, numpy=12, pandas=14.6, matplotlib=18, abscence=3, niveau=3)\n",
        " \n",
        " "
      ],
      "execution_count": null,
      "outputs": [
        {
          "output_type": "stream",
          "text": [
            "Votre moyenne est 12.758947368421053 echoue\n"
          ],
          "name": "stdout"
        }
      ]
    },
    {
      "cell_type": "code",
      "metadata": {
        "colab": {
          "base_uri": "https://localhost:8080/"
        },
        "id": "tsax1U1ImXHo",
        "outputId": "e15d0393-2e79-4d43-88b5-8f17d71db65f"
      },
      "source": [
        "import bootcamp_h\n",
        "resultat = bootcamp_h.decision(python=15, numpy=12, pandas=14.6, matplotlib=18, abscence=0, niveau=3)"
      ],
      "execution_count": null,
      "outputs": [
        {
          "output_type": "stream",
          "text": [
            "Votre moyenne est 16.51157894736842 admis\n"
          ],
          "name": "stdout"
        }
      ]
    },
    {
      "cell_type": "markdown",
      "metadata": {
        "id": "OpjhLe_7MC3a"
      },
      "source": [
        "# Exo 18: Programmation orientée objet"
      ]
    },
    {
      "cell_type": "markdown",
      "metadata": {
        "id": "ZsZckRo8MC3c"
      },
      "source": [
        "Créez une classe Vehicule avec les attributs suivants:\n",
        "* couleur \n",
        "* distance_parcourue (km)\n",
        "* vitesse maximum (km/h)\n",
        "* vitesse actuelle (km/h)\n",
        "\n",
        "On peut donc créer un nouveau véhicule ce cette manière : \n",
        "```python\n",
        "v1 = Vehicule(couleur='bleu', vitesse_maximum='100')\n",
        "``` \n",
        "Ajoutez à la classe Vehicule les méthodes ou fonctionalités suivantes:\n",
        "* accelerer :  augmente la vitesse actuelle  sur une durée(minutes) sans dépasser la vitesse maximum\n",
        "* ralentir : diminue la vitesse sur une durée (minutes)\n",
        "* arreter : elle met à 0 la vitesse actuelle\n",
        "* la fonction `_repr_`  qui permet d'afficher le nombre de distance parcourue et l'état (arrêt, en cours) quand on fait `print(v1)` "
      ]
    },
    {
      "cell_type": "code",
      "metadata": {
        "id": "jditKw5WMC3e"
      },
      "source": [
        "class Vehicule:\n",
        "  def __init__(self, couleur, vitesse_max):\n",
        "    self.couleur = couleur\n",
        "    self.distance_parcourue = 0\n",
        "    self.vitesse_max = vitesse_max\n",
        "    self.vitesse_actuelle = 0\n",
        "  def accelerer(self, vitesse, duree):\n",
        "    if vitesse > int(self.vitesse_max) or vitesse < self.vitesse_actuelle :\n",
        "         print(\"acceleration impossible\")\n",
        "    else:\n",
        "        self.vitesse_actuelle = vitesse\n",
        "        self.distance_parcourue += vitesse * (duree/60)\n",
        "    return self.vitesse_actuelle, self.distance_parcourue\n",
        "\n",
        "  def ralentir(self, vitesse, duree):\n",
        "    if vitesse >= self.vitesse_actuelle:\n",
        "      print(\"ralentissement impossible\")\n",
        "    else : \n",
        "      self.vitesse_actuelle -= vitesse\n",
        "      self.distance_parcourue -= vitesse *(duree/60)\n",
        "    return self.vitesse_actuelle, self.distance_parcourue\n",
        "\n",
        "  def arreter(self):\n",
        "    self.vitesse_actuelle = 0\n",
        "    return self.vitesse_actuelle\n",
        "\n",
        "  def __repr__(self):\n",
        "      if self.vitesse_actuelle == 0 :\n",
        "        etat = \"arret\"\n",
        "      else :\n",
        "        etat = \"En cours\"\n",
        "      return f\"Vehicule[couleur = {self.couleur}; vitesse_max = {self.vitesse_max}; vitesse_actuelle = {self.vitesse_actuelle}; distance parcourue = {self.distance_parcourue},etat={etat}]\"\n",
        "v1 = Vehicule(couleur='bleu',vitesse_max='100')"
      ],
      "execution_count": null,
      "outputs": []
    },
    {
      "cell_type": "code",
      "metadata": {
        "id": "ItpVKZYZsn6n",
        "colab": {
          "base_uri": "https://localhost:8080/"
        },
        "outputId": "98b47eec-acd2-4a2c-d8a5-4ae0d76786b9"
      },
      "source": [
        "v1.accelerer(vitesse = 50, duree = 3)"
      ],
      "execution_count": null,
      "outputs": [
        {
          "output_type": "execute_result",
          "data": {
            "text/plain": [
              "(50, 2.5)"
            ]
          },
          "metadata": {
            "tags": []
          },
          "execution_count": 23
        }
      ]
    },
    {
      "cell_type": "code",
      "metadata": {
        "colab": {
          "base_uri": "https://localhost:8080/"
        },
        "id": "TSmwwuY-Ajx4",
        "outputId": "137c328c-9f8d-442a-a28a-20d529acf314"
      },
      "source": [
        "print(v1)"
      ],
      "execution_count": null,
      "outputs": [
        {
          "output_type": "stream",
          "text": [
            "Vehicule[couleur = bleu; vitesse_max = 100; vitesse_actuelle = 50; distance parcourue = 2.5,etat=En cours]\n"
          ],
          "name": "stdout"
        }
      ]
    },
    {
      "cell_type": "code",
      "metadata": {
        "id": "qz7A7xISHuB6",
        "colab": {
          "base_uri": "https://localhost:8080/"
        },
        "outputId": "17e83e4e-693b-4608-8232-f96489cd54fe"
      },
      "source": [
        "v1.ralentir(vitesse=5, duree = 6)"
      ],
      "execution_count": null,
      "outputs": [
        {
          "output_type": "execute_result",
          "data": {
            "text/plain": [
              "(45, 2.0)"
            ]
          },
          "metadata": {
            "tags": []
          },
          "execution_count": 25
        }
      ]
    },
    {
      "cell_type": "code",
      "metadata": {
        "colab": {
          "base_uri": "https://localhost:8080/"
        },
        "id": "F-9Ozg_d8k0w",
        "outputId": "d935c568-3d6a-4fa7-fe05-4b6da81ac6f6"
      },
      "source": [
        "print(v1)"
      ],
      "execution_count": null,
      "outputs": [
        {
          "output_type": "stream",
          "text": [
            "Vehicule[couleur = bleu; vitesse_max = 100; vitesse_actuelle = 45; distance parcourue = 2.0,etat=En cours]\n"
          ],
          "name": "stdout"
        }
      ]
    },
    {
      "cell_type": "code",
      "metadata": {
        "colab": {
          "base_uri": "https://localhost:8080/"
        },
        "id": "LLmtYfbA8owJ",
        "outputId": "cb31fd35-e183-4a25-de69-b9a16f34d281"
      },
      "source": [
        "v1.arreter()"
      ],
      "execution_count": null,
      "outputs": [
        {
          "output_type": "execute_result",
          "data": {
            "text/plain": [
              "0"
            ]
          },
          "metadata": {
            "tags": []
          },
          "execution_count": 27
        }
      ]
    },
    {
      "cell_type": "code",
      "metadata": {
        "colab": {
          "base_uri": "https://localhost:8080/"
        },
        "id": "nybCrTwj8sco",
        "outputId": "cb5a775c-6f3f-4dd3-895c-f2502e429324"
      },
      "source": [
        "print(v1)"
      ],
      "execution_count": null,
      "outputs": [
        {
          "output_type": "stream",
          "text": [
            "Vehicule[couleur = bleu; vitesse_max = 100; vitesse_actuelle = 0; distance parcourue = 2.0,etat=arret]\n"
          ],
          "name": "stdout"
        }
      ]
    },
    {
      "cell_type": "code",
      "metadata": {
        "id": "O9qKtBntFBSC"
      },
      "source": [
        "def is_palindrome():\n",
        "  word = input(\"donnez un mot: \")\n",
        "  i, longueur = 0, len(word)\n",
        "  while i < longueur:\n",
        "    if word[i] != word[-i-1]:\n",
        "      return False\n",
        "    i+=1\n",
        "  return True"
      ],
      "execution_count": null,
      "outputs": []
    },
    {
      "cell_type": "code",
      "metadata": {
        "colab": {
          "base_uri": "https://localhost:8080/"
        },
        "id": "BC44GdxSFngO",
        "outputId": "9978da96-9da9-47df-bb71-acbf3d024814"
      },
      "source": [
        "is_palindrome() "
      ],
      "execution_count": null,
      "outputs": [
        {
          "output_type": "stream",
          "text": [
            "donnez un mot: loleil\n"
          ],
          "name": "stdout"
        },
        {
          "output_type": "execute_result",
          "data": {
            "text/plain": [
              "False"
            ]
          },
          "metadata": {
            "tags": []
          },
          "execution_count": 111
        }
      ]
    },
    {
      "cell_type": "code",
      "metadata": {
        "id": "jeJbSaw1VjsN"
      },
      "source": [
        "def is_palindrome_2():\n",
        "  word = input(\"donnez un mot: \")\n",
        "  for i in range(0,len(word)):\n",
        "    if word[i] != word[-i-1]:\n",
        "      return False\n",
        "    else: \n",
        "      return True"
      ],
      "execution_count": null,
      "outputs": []
    },
    {
      "cell_type": "code",
      "metadata": {
        "colab": {
          "base_uri": "https://localhost:8080/"
        },
        "id": "Hg1CSutSVvrA",
        "outputId": "7fc21200-fd57-4690-b2ca-421002ad21d2"
      },
      "source": [
        "is_palindrome_2()"
      ],
      "execution_count": null,
      "outputs": [
        {
          "output_type": "stream",
          "text": [
            "donnez un mot: 21122021\n"
          ],
          "name": "stdout"
        },
        {
          "output_type": "execute_result",
          "data": {
            "text/plain": [
              "False"
            ]
          },
          "metadata": {
            "tags": []
          },
          "execution_count": 120
        }
      ]
    }
  ]
}